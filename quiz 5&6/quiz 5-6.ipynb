{
  "nbformat": 4,
  "nbformat_minor": 0,
  "metadata": {
    "colab": {
      "provenance": []
    },
    "kernelspec": {
      "name": "python3",
      "display_name": "Python 3"
    },
    "language_info": {
      "name": "python"
    }
  },
  "cells": [
    {
      "cell_type": "code",
      "execution_count": 10,
      "metadata": {
        "id": "g_MRKutlSUKY"
      },
      "outputs": [],
      "source": [
        "import pandas as pd\n",
        "from sklearn.linear_model import LinearRegression\n",
        "from sklearn.model_selection import train_test_split\n",
        "from sklearn.metrics import mean_squared_error, r2_score\n",
        "import numpy as np\n",
        "from sklearn.tree import DecisionTreeRegressor\n",
        "from sklearn.linear_model import LogisticRegression\n",
        "from sklearn.metrics import classification_report, confusion_matrix\n",
        "from sklearn.tree import DecisionTreeClassifier"
      ]
    },
    {
      "cell_type": "code",
      "source": [
        "#Simple Linear Regression\n",
        "data = pd.read_csv('mobile phone price prediction.csv')\n",
        "\n",
        "data['Price'] = data['Price'].str.replace(',', '').astype(int)\n",
        "\n",
        "X = data[['Spec_score']]\n",
        "y = data['Price']\n",
        "\n",
        "X_train, X_test, y_train, y_test = train_test_split(X, y, test_size=0.2, random_state=42)\n",
        "\n",
        "model = LinearRegression()\n",
        "\n",
        "model.fit(X_train, y_train)\n",
        "\n",
        "y_pred = model.predict(X_test)\n",
        "\n",
        "mse = mean_squared_error(y_test, y_pred)\n",
        "r2 = r2_score(y_test, y_pred)\n",
        "\n",
        "print(f'Mean Squared Error: {mse}')\n",
        "print(f'R^2 Score: {r2}')"
      ],
      "metadata": {
        "colab": {
          "base_uri": "https://localhost:8080/"
        },
        "id": "Esm8NNsdSjrH",
        "outputId": "4a18ec84-e249-4245-8118-042367e87a2a"
      },
      "execution_count": 2,
      "outputs": [
        {
          "output_type": "stream",
          "name": "stdout",
          "text": [
            "Mean Squared Error: 496563953.95930034\n",
            "R^2 Score: 0.4492052287143623\n"
          ]
        }
      ]
    },
    {
      "cell_type": "code",
      "source": [
        "# Multiple Linear Regression\n",
        "X = data[['Spec_score', 'Rating']]\n",
        "\n",
        "model_multi = LinearRegression()\n",
        "\n",
        "model_multi.fit(X_train, y_train)\n",
        "\n",
        "y_pred_multi = model_multi.predict(X_test)\n",
        "\n",
        "mse_multi = mean_squared_error(y_test, y_pred_multi)\n",
        "r2_multi = r2_score(y_test, y_pred_multi)\n",
        "\n",
        "print(f'Mean Squared Error (Multiple): {mse_multi}')\n",
        "print(f'R^2 Score (Multiple): {r2_multi}')"
      ],
      "metadata": {
        "colab": {
          "base_uri": "https://localhost:8080/"
        },
        "id": "6QKS164XTIRe",
        "outputId": "d5b71daf-0e5c-499e-dcb9-4fa03527c816"
      },
      "execution_count": 3,
      "outputs": [
        {
          "output_type": "stream",
          "name": "stdout",
          "text": [
            "Mean Squared Error (Multiple): 496563953.95930034\n",
            "R^2 Score (Multiple): 0.4492052287143623\n"
          ]
        }
      ]
    },
    {
      "cell_type": "code",
      "source": [
        "# Regression Tree Model\n",
        "tree_model = DecisionTreeRegressor()\n",
        "\n",
        "tree_model.fit(X_train, y_train)\n",
        "\n",
        "y_pred_tree = tree_model.predict(X_test)\n",
        "\n",
        "mse_tree = mean_squared_error(y_test, y_pred_tree)\n",
        "r2_tree = r2_score(y_test, y_pred_tree)\n",
        "\n",
        "print(f'Mean Squared Error (Tree): {mse_tree}')\n",
        "print(f'R^2 Score (Tree): {r2_tree}')"
      ],
      "metadata": {
        "colab": {
          "base_uri": "https://localhost:8080/"
        },
        "id": "u3VboC0BTZhn",
        "outputId": "9c6ee290-383e-44f3-a733-283cf8bac5a8"
      },
      "execution_count": 5,
      "outputs": [
        {
          "output_type": "stream",
          "name": "stdout",
          "text": [
            "Mean Squared Error (Tree): 338408343.77111655\n",
            "R^2 Score (Tree): 0.6246333532219278\n"
          ]
        }
      ]
    },
    {
      "cell_type": "code",
      "source": [
        "# Logistic Regression Model\n",
        "median_price = data['Price'].median()\n",
        "data['Price_Category'] = (data['Price'] > median_price).astype(int)\n",
        "\n",
        "X = data[['Spec_score', 'Rating']]\n",
        "y = data['Price_Category']\n",
        "\n",
        "X_train, X_test, y_train, y_test = train_test_split(X, y, test_size=0.2, random_state=42)\n",
        "\n",
        "logistic_model = LogisticRegression()\n",
        "\n",
        "logistic_model.fit(X_train, y_train)\n",
        "\n",
        "y_pred_logistic = logistic_model.predict(X_test)\n",
        "\n",
        "print(\"Confusion Matrix:\\n\", confusion_matrix(y_test, y_pred_logistic))\n",
        "print(\"\\nClassification Report:\\n\", classification_report(y_test, y_pred_logistic))"
      ],
      "metadata": {
        "colab": {
          "base_uri": "https://localhost:8080/"
        },
        "id": "yz4aKcp-UNX9",
        "outputId": "b6f0d84f-5858-4392-a1c6-b8923a320cfe"
      },
      "execution_count": 8,
      "outputs": [
        {
          "output_type": "stream",
          "name": "stdout",
          "text": [
            "Confusion Matrix:\n",
            " [[108  16]\n",
            " [ 19 131]]\n",
            "\n",
            "Classification Report:\n",
            "               precision    recall  f1-score   support\n",
            "\n",
            "           0       0.85      0.87      0.86       124\n",
            "           1       0.89      0.87      0.88       150\n",
            "\n",
            "    accuracy                           0.87       274\n",
            "   macro avg       0.87      0.87      0.87       274\n",
            "weighted avg       0.87      0.87      0.87       274\n",
            "\n"
          ]
        }
      ]
    },
    {
      "cell_type": "code",
      "source": [
        "# Classification Tree Model\n",
        "tree_classifier = DecisionTreeClassifier()\n",
        "\n",
        "tree_classifier.fit(X_train, y_train)\n",
        "\n",
        "y_pred_tree_class = tree_classifier.predict(X_test)\n",
        "\n",
        "print(\"Confusion Matrix:\\n\", confusion_matrix(y_test, y_pred_tree_class))\n",
        "print(\"\\nClassification Report:\\n\", classification_report(y_test, y_pred_tree_class))"
      ],
      "metadata": {
        "colab": {
          "base_uri": "https://localhost:8080/"
        },
        "id": "SEeO1XxCUlWa",
        "outputId": "d6b8d6d4-d79a-441e-daec-b6e4b76c4df3"
      },
      "execution_count": 11,
      "outputs": [
        {
          "output_type": "stream",
          "name": "stdout",
          "text": [
            "Confusion Matrix:\n",
            " [[113  11]\n",
            " [ 30 120]]\n",
            "\n",
            "Classification Report:\n",
            "               precision    recall  f1-score   support\n",
            "\n",
            "           0       0.79      0.91      0.85       124\n",
            "           1       0.92      0.80      0.85       150\n",
            "\n",
            "    accuracy                           0.85       274\n",
            "   macro avg       0.85      0.86      0.85       274\n",
            "weighted avg       0.86      0.85      0.85       274\n",
            "\n"
          ]
        }
      ]
    }
  ]
}